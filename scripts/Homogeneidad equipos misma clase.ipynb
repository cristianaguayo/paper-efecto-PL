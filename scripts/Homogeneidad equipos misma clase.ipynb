{
 "cells": [
  {
   "cell_type": "markdown",
   "metadata": {},
   "source": [
    "# Preanálisis"
   ]
  },
  {
   "cell_type": "code",
   "execution_count": 1,
   "metadata": {},
   "outputs": [],
   "source": [
    "# Librerías de siempre\n",
    "import pandas as pd\n",
    "import numpy as np\n",
    "import matplotlib\n",
    "import matplotlib.pyplot as plt\n",
    "import os\n",
    "import datetime\n",
    "from time import time\n",
    "import statsmodels.api as sm\n",
    "import itertools\n",
    "from random import shuffle\n",
    "from statsmodels.formula.api import ols\n",
    "from scipy import stats"
   ]
  },
  {
   "cell_type": "code",
   "execution_count": 2,
   "metadata": {},
   "outputs": [],
   "source": [
    "def leer_efectos(datadir,\n",
    "                 ligas):\n",
    "    dict_replaces = {'_mean': '',\n",
    "                     '_':' ',\n",
    "                     'dificil':'Difícil',\n",
    "                     'dificl' : 'Difícil',\n",
    "                     'facil': 'Fácil',\n",
    "                     'regular' : 'Regular',\n",
    "                     'prom': 'Promedio',\n",
    "                     'posicion': 'Posición',\n",
    "                     'primer' : 'Primer',\n",
    "                     'ronda' : 'Ronda',\n",
    "                     'gral': 'Gral.',\n",
    "                     'categoria': 'Categoría',\n",
    "                     'local': 'Local',\n",
    "                     'visita': 'Visita',\n",
    "                     'general' : 'Gral.',\n",
    "                     'corr' : 'Correg.',\n",
    "                     'perc' : '%',\n",
    "                     ' p': ' Primeros ',\n",
    "                     ' c': ' Corte ',\n",
    "                     'lv' : 'LV',\n",
    "                     'elo' : 'ELO',\n",
    "                     'Primer Fácil C': 'Primer Fácil LV C',\n",
    "                     'Primer Difícil C': 'Primer Difícil LV C'}\n",
    "    count = 0\n",
    "    for j in range(len(ligas)):\n",
    "        print(\"Leyendo: %s                             \" % ligas[j], end = '\\t\\r')\n",
    "        df_efecto = pd.read_excel(os.path.join(datadir, ligas[j] + '.xlsx'),\n",
    "                                  sheet_name = ligas[j])\n",
    "        cols_categoria = [i for i in df_efecto.columns if 'categoria' in i]\n",
    "        for col in cols_categoria:\n",
    "            df_efecto[col] = df_efecto[col].astype('category')\n",
    "            df_efecto[col].cat.reorder_categories(['regular', 'facil','dificil'], inplace = True)\n",
    "        if count < 1:\n",
    "            lista_columnas = [i for i in df_efecto.columns.tolist() if i not in ['equipo','position','Torneo','Pais']\n",
    "                             and '.' not in i]\n",
    "#             lista_columnas = [i for i in df_efecto.columns.tolist() if 'perc' in i \n",
    "#                               and '.' not in i]\n",
    "            variables = lista_columnas\n",
    "            for key, value in dict_replaces.items():\n",
    "                variables = [i.replace(key,value) for i in variables]\n",
    "            dict_columns = dict(zip(variables, lista_columnas))\n",
    "            dfs_efecto = []\n",
    "            count = count + 1\n",
    "        dfs_efecto.append(df_efecto)\n",
    "    return dfs_efecto, variables, dict_columns"
   ]
  },
  {
   "cell_type": "code",
   "execution_count": 3,
   "metadata": {},
   "outputs": [],
   "source": [
    "def significancia_variables(mod,var,replace_spaces = True, std_err = True):\n",
    "    coef = \"%.3f\" % (np.round(mod.params[var], decimals = 3))\n",
    "    se = \"%.3f\" % (np.round(mod.bse[var], decimals = 3))\n",
    "    if mod.params[var] > 0:\n",
    "        output = '~' + str(coef)                 \n",
    "    else:\n",
    "        output = str(coef)\n",
    "    if std_err:\n",
    "        output = output + ' (' + str(se) + ')'   \n",
    "    pval = np.round(mod.pvalues[var], 3)\n",
    "    if pval < 0.01:\n",
    "        output = output + '***'\n",
    "    elif pval < 0.05 and pval >= 0.01:\n",
    "        output = output + '**~'\n",
    "    elif pval < 0.1 and pval >=0.05:\n",
    "        output = output + '*~~'\n",
    "    else:\n",
    "        output = output + '~~~'\n",
    "    if replace_spaces:\n",
    "        output = output.replace(\"~\",\" \")\n",
    "    return output"
   ]
  },
  {
   "cell_type": "markdown",
   "metadata": {},
   "source": [
    "## ANOVA de 1 vía para posiciones\n",
    "\n",
    "La idea de esto es ver si hay diferencias en términos de posición entre los equipos que son asignados como fáciles o difíciles"
   ]
  },
  {
   "cell_type": "code",
   "execution_count": 4,
   "metadata": {},
   "outputs": [],
   "source": [
    "def anova_1via_categorias(datadir,ligas, outputdir, outputfile, column_condition):\n",
    "    dfs_efecto, variables, dict_columns = leer_efectos(datadir = datadir,\n",
    "                                                       ligas = ligas)\n",
    "    reverse_dict = inv_map = {v: k for k, v in dict_columns.items()}\n",
    "    ys = [i for i in dfs_efecto[0].columns.tolist() if 'position' in i or 'points' in i]\n",
    "    dfs_resumen = []\n",
    "    for y in ys:\n",
    "#         print(y)\n",
    "        formula = '%s ~ C(equipo)' % y\n",
    "        data = []\n",
    "        for i in range(len(ligas)):\n",
    "            resultados = []\n",
    "            liga = ligas[i]\n",
    "            df_efecto = dfs_efecto[i]\n",
    "            if i < 1:\n",
    "                cols_categorias = [j for j in df_efecto.columns if column_condition(j)]\n",
    "                columna_var = []\n",
    "                for col in cols_categorias:\n",
    "                    for cat in ['facil','dificil']:\n",
    "                        columna_var.append('%s %s' % (reverse_dict[col], cat))  \n",
    "                data.append(columna_var)\n",
    "            for col in cols_categorias:\n",
    "                for cat in ['facil','dificil']:\n",
    "                    model = ols(formula, data = df_efecto[df_efecto[col] == cat]).fit()\n",
    "                    aov_table = sm.stats.anova_lm(model, typ=2)\n",
    "                    resultados.append(np.round(aov_table['PR(>F)'][0], decimals = 3))\n",
    "            data.append(resultados)\n",
    "        colnames = ['Categoria'] + ligas\n",
    "        data_dict = dict(zip(colnames, data))\n",
    "        df_resumen = pd.DataFrame(data_dict)\n",
    "        dfs_resumen.append(df_resumen)\n",
    "    # Inicia script para guardar en excel\n",
    "    writer = pd.ExcelWriter(os.path.join(outputdir, outputfile), engine='xlsxwriter')\n",
    "    for df, sheet in zip(dfs_resumen, ys):\n",
    "        df.to_excel(writer, sheet_name = sheet, index = False)\n",
    "    writer.save()\n",
    "    # Finaliza script para guardar en excel\n",
    "    return dfs_resumen"
   ]
  },
  {
   "cell_type": "markdown",
   "metadata": {},
   "source": [
    "## Homogeneidad ELO"
   ]
  },
  {
   "cell_type": "code",
   "execution_count": 5,
   "metadata": {},
   "outputs": [
    {
     "name": "stdout",
     "output_type": "stream",
     "text": [
      "Leyendo: Italia                             \t   \t\r"
     ]
    }
   ],
   "source": [
    "datadir = os.path.join(os.path.pardir,'datos','regresiones')\n",
    "ligas = ['Alemania','Espana','Francia','Inglaterra','Italia']\n",
    "outputdir = os.path.join(os.path.pardir,'resultados','homogeneidad-categorias')\n",
    "outputfile = 'homogeneidad-elo.xlsx'\n",
    "dfs_resumen = anova_1via_categorias(datadir,\n",
    "                                    ligas,\n",
    "                                    outputdir,\n",
    "                                    outputfile,\n",
    "                                    column_condition = lambda x: 'categoria' in x and 'elo' in x)"
   ]
  },
  {
   "cell_type": "markdown",
   "metadata": {},
   "source": [
    "## Homogeneidad General"
   ]
  },
  {
   "cell_type": "code",
   "execution_count": 6,
   "metadata": {},
   "outputs": [
    {
     "name": "stdout",
     "output_type": "stream",
     "text": [
      "Leyendo: Italia                             \t   \t\r"
     ]
    }
   ],
   "source": [
    "datadir = os.path.join(os.path.pardir,'datos','regresiones')\n",
    "ligas = ['Alemania','Espana','Francia','Inglaterra','Italia']\n",
    "outputdir = os.path.join(os.path.pardir,'resultados','homogeneidad-categorias')\n",
    "outputfile = 'homogeneidad-general.xlsx'\n",
    "dfs_resumen = anova_1via_categorias(datadir,\n",
    "                                    ligas,\n",
    "                                    outputdir,\n",
    "                                    outputfile,\n",
    "                                    column_condition = lambda x: 'categoria' in x and 'general' in x)"
   ]
  },
  {
   "cell_type": "markdown",
   "metadata": {},
   "source": [
    "## Homogeneidad Local"
   ]
  },
  {
   "cell_type": "code",
   "execution_count": 7,
   "metadata": {},
   "outputs": [
    {
     "name": "stdout",
     "output_type": "stream",
     "text": [
      "Leyendo: Italia                             \t   \t\r"
     ]
    }
   ],
   "source": [
    "datadir = os.path.join(os.path.pardir,'datos','regresiones')\n",
    "ligas = ['Alemania','Espana','Francia','Inglaterra','Italia']\n",
    "outputdir = os.path.join(os.path.pardir,'resultados','homogeneidad-categorias')\n",
    "outputfile = 'homogeneidad-local.xlsx'\n",
    "dfs_resumen = anova_1via_categorias(datadir,\n",
    "                                    ligas,\n",
    "                                    outputdir,\n",
    "                                    outputfile,\n",
    "                                    column_condition = lambda x: 'categoria' in x and 'local' in x)"
   ]
  },
  {
   "cell_type": "markdown",
   "metadata": {},
   "source": [
    "# Homogeneidad Visita"
   ]
  },
  {
   "cell_type": "code",
   "execution_count": 8,
   "metadata": {},
   "outputs": [
    {
     "name": "stdout",
     "output_type": "stream",
     "text": [
      "Leyendo: Italia                             \t   \t\r"
     ]
    }
   ],
   "source": [
    "datadir = os.path.join(os.path.pardir,'datos','regresiones')\n",
    "ligas = ['Alemania','Espana','Francia','Inglaterra','Italia']\n",
    "outputdir = os.path.join(os.path.pardir,'resultados','homogeneidad-categorias')\n",
    "outputfile = 'homogeneidad-visita.xlsx'\n",
    "dfs_resumen = anova_1via_categorias(datadir,\n",
    "                                    ligas,\n",
    "                                    outputdir,\n",
    "                                    outputfile,\n",
    "                                    column_condition = lambda x: 'categoria' in x and 'visita' in x)"
   ]
  },
  {
   "cell_type": "code",
   "execution_count": null,
   "metadata": {},
   "outputs": [],
   "source": []
  }
 ],
 "metadata": {
  "kernelspec": {
   "display_name": "Python 3",
   "language": "python",
   "name": "python3"
  },
  "language_info": {
   "codemirror_mode": {
    "name": "ipython",
    "version": 3
   },
   "file_extension": ".py",
   "mimetype": "text/x-python",
   "name": "python",
   "nbconvert_exporter": "python",
   "pygments_lexer": "ipython3",
   "version": "3.7.1"
  }
 },
 "nbformat": 4,
 "nbformat_minor": 2
}
