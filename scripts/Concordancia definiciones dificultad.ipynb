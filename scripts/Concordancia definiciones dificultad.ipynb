{
 "cells": [
  {
   "cell_type": "markdown",
   "metadata": {},
   "source": [
    "# Concordancia definiciones dificultad"
   ]
  },
  {
   "cell_type": "code",
   "execution_count": 1,
   "metadata": {},
   "outputs": [],
   "source": [
    "import numpy as np\n",
    "import pandas as pd\n",
    "import os\n",
    "import datetime\n",
    "from time import time\n",
    "import statsmodels.api as sm\n",
    "from statsmodels.formula.api import ols\n",
    "from scipy import stats"
   ]
  },
  {
   "cell_type": "code",
   "execution_count": 2,
   "metadata": {},
   "outputs": [],
   "source": [
    "def LeerBasesRegresion(datadir, ligas, column_condition):\n",
    "    dfs = []\n",
    "    # Primer caso:\n",
    "    archivo = ligas[0] + '.xlsx'\n",
    "    df = pd.read_excel(os.path.join(datadir, archivo))\n",
    "    columns_filter = [i for i in df.columns if column_condition(i)]\n",
    "    dependants = [i for i in df.columns if 'position' in i or 'points' in i]\n",
    "    columns_to_keep = ['equipo','Torneo'] + dependants + columns_filter\n",
    "    df = df[columns_to_keep]\n",
    "    for col in columns_filter:\n",
    "        if 'categoria' in col:\n",
    "            df[col] = df[col].astype('category')\n",
    "            df[col].cat.reorder_categories(['regular', 'facil','dificil'], inplace = True)\n",
    "    dfs.append(df)\n",
    "    \n",
    "    try:\n",
    "        for liga in ligas[1:]:\n",
    "            archivo = liga + '.xlsx'\n",
    "            df = pd.read_excel(os.path.join(datadir, archivo))\n",
    "            for col in columns_filter:\n",
    "                if 'categoria' in col:\n",
    "                    df[col] = df[col].astype('category')\n",
    "                    df[col].cat.reorder_categories(['regular', 'facil','dificil'], inplace = True)\n",
    "            dfs.append(df)\n",
    "    except:\n",
    "        pass\n",
    "    return dfs, columns_filter, dependants"
   ]
  },
  {
   "cell_type": "code",
   "execution_count": 3,
   "metadata": {},
   "outputs": [],
   "source": [
    "def significancia_variables(mod,var,replace_spaces = True, std_err = True, stars = True):\n",
    "    coef = \"%.3f\" % (np.round(mod.params[var], decimals = 3))\n",
    "    se = \"%.3f\" % (np.round(mod.bse[var], decimals = 3))\n",
    "    if mod.params[var] > 0:\n",
    "        output = '~' + str(coef)                 \n",
    "    else:\n",
    "        output = str(coef)\n",
    "    if std_err:\n",
    "        output = output + ' (' + str(se) + ')'\n",
    "    if stars:\n",
    "        pval = np.round(mod.pvalues[var], 3)\n",
    "        if pval < 0.01:\n",
    "            output = output + '***'\n",
    "        elif pval < 0.05 and pval >= 0.01:\n",
    "            output = output + '**~'\n",
    "        elif pval < 0.1 and pval >=0.05:\n",
    "            output = output + '*~~'\n",
    "        else:\n",
    "            output = output + '~~~'\n",
    "    if replace_spaces:\n",
    "        output = output.replace(\"~\",\" \")\n",
    "    return output"
   ]
  },
  {
   "cell_type": "code",
   "execution_count": 4,
   "metadata": {},
   "outputs": [],
   "source": [
    "def RegresionesConcordancia(datadir, ligas, outputdir, outputfile , column_condition):\n",
    "    dict_replaces = {'_mean': '',\n",
    "                     '_':' ',\n",
    "                     'T.' : '',\n",
    "                     'dificil':'Difícil',\n",
    "                     'dificl' : 'Difícil',\n",
    "                     'facil': 'Fácil',\n",
    "                     'regular' : 'Regular',\n",
    "                     'prom': 'Promedio',\n",
    "                     'posicion': 'Posición',\n",
    "                     'primer' : 'Primer',\n",
    "                     'ronda' : 'Ronda',\n",
    "                     'gral': 'Gral.',\n",
    "                     'elo' : 'ELO',\n",
    "                     'categoria': 'Categoría',\n",
    "                     'local': 'Local',\n",
    "                     'visita': 'Visita',\n",
    "                     'general' : 'Gral.',\n",
    "                     'corr' : 'Correg.',\n",
    "                     'perc' : 'Frac.',\n",
    "                     ' h' : ' Ant. ',\n",
    "                     ' p': ' Primeros ',\n",
    "                     ' c': ' Corte ',\n",
    "                     'lv' : 'LV',\n",
    "                     'Primer Fácil C': 'Primer Fácil LV C',\n",
    "                     'Primer Difícil C': 'Primer Difícil LV C'}\n",
    "    dfs, columns_filter, dependants = LeerBasesRegresion(datadir,\n",
    "                                             ligas,\n",
    "                                             column_condition)\n",
    "    dfs_resumen = []\n",
    "    for y in dependants:\n",
    "        categories = []\n",
    "        for var in columns_filter:\n",
    "            categories.append('%s[T.facil]' % var)\n",
    "            categories.append('%s[T.dificil]' % var)\n",
    "        dictresumen_l = {'Categoria' : categories}\n",
    "        # Columnas de facil\n",
    "        for i in range(len(ligas)):\n",
    "            liga = ligas[i]\n",
    "            resultados = []\n",
    "            for var in columns_filter:\n",
    "                var_f = 'C(%s)[T.facil]' % var\n",
    "                var_d = 'C(%s)[T.dificil]' % var\n",
    "                formula = '%s ~ C(%s) + equipo' % (y, var)\n",
    "                mod = ols(formula = formula, data = dfs[i]).fit(cov_type = 'cluster',\n",
    "                                                                 cov_kwds={'groups': dfs[i]['equipo']})\n",
    "                resultados.append(significancia_variables(mod,var_f,\n",
    "                                                          replace_spaces=True,\n",
    "                                                          std_err = False,\n",
    "                                                          stars = True))\n",
    "                resultados.append(significancia_variables(mod,var_d,\n",
    "                                                          replace_spaces=True,\n",
    "                                                          std_err = False,\n",
    "                                                          stars = True))\n",
    "            dictresumen_l[liga] = resultados\n",
    "        df = pd.DataFrame(data = dictresumen_l)\n",
    "        df['Categoria'] = df['Categoria'].replace(to_replace = dict_replaces, regex=True)\n",
    "        dfs_resumen.append(df)\n",
    "    # Inicia script para guardar en excel\n",
    "    writer = pd.ExcelWriter(os.path.join(outputdir, outputfile), engine='xlsxwriter')\n",
    "    for df, sheet in zip(dfs_resumen, dependants):\n",
    "        df.to_excel(writer, sheet_name = sheet, index = False)\n",
    "    writer.save()\n",
    "    # Finaliza script para guardar en excel\n",
    "    return dfs_resumen"
   ]
  },
  {
   "cell_type": "markdown",
   "metadata": {},
   "source": [
    "## Concordancia definición ELO"
   ]
  },
  {
   "cell_type": "code",
   "execution_count": 5,
   "metadata": {},
   "outputs": [],
   "source": [
    "datadir = os.path.join(os.path.pardir, 'datos', 'regresiones')\n",
    "outputdir = os.path.join(os.path.pardir,'resultados','concordancia-dificultad')\n",
    "outputfile = 'concordancia-elo.xlsx'\n",
    "ligas = ['Alemania','Espana','Francia', 'Inglaterra','Italia']\n",
    "dfs_resumen_elo = RegresionesConcordancia(datadir,\n",
    "                                          ligas,\n",
    "                                          outputdir,\n",
    "                                          outputfile, \n",
    "                                          column_condition = lambda x: 'categoria' in x and 'elo' in x)"
   ]
  },
  {
   "cell_type": "markdown",
   "metadata": {},
   "source": [
    "## Concordancia definición General"
   ]
  },
  {
   "cell_type": "code",
   "execution_count": 6,
   "metadata": {},
   "outputs": [],
   "source": [
    "datadir = os.path.join(os.path.pardir, 'datos', 'regresiones')\n",
    "outputdir = os.path.join(os.path.pardir,'resultados','concordancia-dificultad')\n",
    "outputfile = 'concordancia-general.xlsx'\n",
    "ligas = ['Alemania','Espana','Francia', 'Inglaterra','Italia']\n",
    "dfs_resumen_general = RegresionesConcordancia(datadir,\n",
    "                                              ligas,\n",
    "                                              outputdir,\n",
    "                                              outputfile,\n",
    "                                              column_condition = lambda x: 'categoria' in x and 'general' in x)"
   ]
  },
  {
   "cell_type": "markdown",
   "metadata": {},
   "source": [
    "## Concordancia definición Local"
   ]
  },
  {
   "cell_type": "code",
   "execution_count": 7,
   "metadata": {},
   "outputs": [],
   "source": [
    "datadir = os.path.join(os.path.pardir, 'datos', 'regresiones')\n",
    "outputdir = os.path.join(os.path.pardir,'resultados','concordancia-dificultad')\n",
    "outputfile = 'concordancia-local.xlsx'\n",
    "ligas = ['Alemania','Espana','Francia', 'Inglaterra','Italia']\n",
    "dfs_resumen_local = RegresionesConcordancia(datadir,\n",
    "                                            ligas,\n",
    "                                            outputdir,\n",
    "                                            outputfile,\n",
    "                                            column_condition = lambda x: 'categoria' in x and 'local' in x)"
   ]
  },
  {
   "cell_type": "markdown",
   "metadata": {},
   "source": [
    "## Concordancia definición Visita"
   ]
  },
  {
   "cell_type": "code",
   "execution_count": 8,
   "metadata": {},
   "outputs": [],
   "source": [
    "datadir = os.path.join(os.path.pardir, 'datos', 'regresiones')\n",
    "outputdir = os.path.join(os.path.pardir,'resultados','concordancia-dificultad')\n",
    "outputfile = 'concordancia-visita.xlsx'\n",
    "ligas = ['Alemania','Espana','Francia', 'Inglaterra','Italia']\n",
    "dfs_resumen_visita = RegresionesConcordancia(datadir,\n",
    "                                             ligas,\n",
    "                                             outputdir,\n",
    "                                             outputfile,\n",
    "                                             column_condition = lambda x: 'categoria' in x and 'visita' in x)"
   ]
  }
 ],
 "metadata": {
  "kernelspec": {
   "display_name": "Python 3",
   "language": "python",
   "name": "python3"
  },
  "language_info": {
   "codemirror_mode": {
    "name": "ipython",
    "version": 3
   },
   "file_extension": ".py",
   "mimetype": "text/x-python",
   "name": "python",
   "nbconvert_exporter": "python",
   "pygments_lexer": "ipython3",
   "version": "3.7.3"
  }
 },
 "nbformat": 4,
 "nbformat_minor": 2
}
